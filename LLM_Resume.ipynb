{
 "cells": [
  {
   "cell_type": "code",
   "execution_count": 1,
   "metadata": {
    "colab": {
     "base_uri": "https://localhost:8080/"
    },
    "executionInfo": {
     "elapsed": 367,
     "status": "ok",
     "timestamp": 1718824176730,
     "user": {
      "displayName": "Amir Zemoodeh",
      "userId": "16761213164468805584"
     },
     "user_tz": 300
    },
    "id": "A4PmmyXP2WHw",
    "outputId": "cfc17856-377c-4365-d649-20e8e55b7160"
   },
   "outputs": [
    {
     "name": "stdout",
     "output_type": "stream",
     "text": [
      "Python 3.9.6\n"
     ]
    }
   ],
   "source": [
    "# prompt: what is this python's version?\n",
    "\n",
    "!python --version"
   ]
  },
  {
   "cell_type": "code",
   "execution_count": 2,
   "metadata": {
    "colab": {
     "base_uri": "https://localhost:8080/"
    },
    "executionInfo": {
     "elapsed": 13485,
     "status": "ok",
     "timestamp": 1718824194136,
     "user": {
      "displayName": "Amir Zemoodeh",
      "userId": "16761213164468805584"
     },
     "user_tz": 300
    },
    "id": "fHIHq8xLBVLe",
    "outputId": "d18ace37-f1a9-467d-cd3a-5e500c1af2e5"
   },
   "outputs": [
    {
     "name": "stdout",
     "output_type": "stream",
     "text": [
      "Requirement already satisfied: openai==0.28 in /Users/niveditavats/venv/lib/python3.9/site-packages (0.28.0)\n",
      "Requirement already satisfied: requests>=2.20 in /Users/niveditavats/venv/lib/python3.9/site-packages (from openai==0.28) (2.31.0)\n",
      "Requirement already satisfied: tqdm in /Users/niveditavats/venv/lib/python3.9/site-packages (from openai==0.28) (4.66.4)\n",
      "Requirement already satisfied: aiohttp in /Users/niveditavats/venv/lib/python3.9/site-packages (from openai==0.28) (3.9.3)\n",
      "Requirement already satisfied: charset-normalizer<4,>=2 in /Users/niveditavats/venv/lib/python3.9/site-packages (from requests>=2.20->openai==0.28) (3.3.2)\n",
      "Requirement already satisfied: idna<4,>=2.5 in /Users/niveditavats/venv/lib/python3.9/site-packages (from requests>=2.20->openai==0.28) (3.6)\n",
      "Requirement already satisfied: urllib3<3,>=1.21.1 in /Users/niveditavats/venv/lib/python3.9/site-packages (from requests>=2.20->openai==0.28) (1.26.18)\n",
      "Requirement already satisfied: certifi>=2017.4.17 in /Users/niveditavats/venv/lib/python3.9/site-packages (from requests>=2.20->openai==0.28) (2024.2.2)\n",
      "Requirement already satisfied: aiosignal>=1.1.2 in /Users/niveditavats/venv/lib/python3.9/site-packages (from aiohttp->openai==0.28) (1.3.1)\n",
      "Requirement already satisfied: attrs>=17.3.0 in /Users/niveditavats/venv/lib/python3.9/site-packages (from aiohttp->openai==0.28) (23.2.0)\n",
      "Requirement already satisfied: frozenlist>=1.1.1 in /Users/niveditavats/venv/lib/python3.9/site-packages (from aiohttp->openai==0.28) (1.4.1)\n",
      "Requirement already satisfied: multidict<7.0,>=4.5 in /Users/niveditavats/venv/lib/python3.9/site-packages (from aiohttp->openai==0.28) (6.0.5)\n",
      "Requirement already satisfied: yarl<2.0,>=1.0 in /Users/niveditavats/venv/lib/python3.9/site-packages (from aiohttp->openai==0.28) (1.9.4)\n",
      "Requirement already satisfied: async-timeout<5.0,>=4.0 in /Users/niveditavats/venv/lib/python3.9/site-packages (from aiohttp->openai==0.28) (4.0.3)\n",
      "\n",
      "\u001b[1m[\u001b[0m\u001b[34;49mnotice\u001b[0m\u001b[1;39;49m]\u001b[0m\u001b[39;49m A new release of pip is available: \u001b[0m\u001b[31;49m24.0\u001b[0m\u001b[39;49m -> \u001b[0m\u001b[32;49m24.1\u001b[0m\n",
      "\u001b[1m[\u001b[0m\u001b[34;49mnotice\u001b[0m\u001b[1;39;49m]\u001b[0m\u001b[39;49m To update, run: \u001b[0m\u001b[32;49mpip install --upgrade pip\u001b[0m\n",
      "Note: you may need to restart the kernel to use updated packages.\n"
     ]
    }
   ],
   "source": [
    "pip install openai==0.28"
   ]
  },
  {
   "cell_type": "code",
   "execution_count": 3,
   "metadata": {
    "colab": {
     "base_uri": "https://localhost:8080/"
    },
    "executionInfo": {
     "elapsed": 15813,
     "status": "ok",
     "timestamp": 1718824214319,
     "user": {
      "displayName": "Amir Zemoodeh",
      "userId": "16761213164468805584"
     },
     "user_tz": 300
    },
    "id": "D7t1KVs0BaBW",
    "outputId": "0888d8ed-493a-43da-b2bd-3190c69ee000"
   },
   "outputs": [
    {
     "name": "stdout",
     "output_type": "stream",
     "text": [
      "Requirement already satisfied: gpt_index==0.4.24 in /Users/niveditavats/venv/lib/python3.9/site-packages (0.4.24)\n",
      "Requirement already satisfied: dataclasses-json in /Users/niveditavats/venv/lib/python3.9/site-packages (from gpt_index==0.4.24) (0.5.14)\n",
      "Requirement already satisfied: langchain in /Users/niveditavats/venv/lib/python3.9/site-packages (from gpt_index==0.4.24) (0.0.118)\n",
      "Requirement already satisfied: numpy in /Users/niveditavats/venv/lib/python3.9/site-packages (from gpt_index==0.4.24) (1.26.4)\n",
      "Requirement already satisfied: tenacity<9.0.0,>=8.2.0 in /Users/niveditavats/venv/lib/python3.9/site-packages (from gpt_index==0.4.24) (8.2.3)\n",
      "Requirement already satisfied: openai>=0.26.4 in /Users/niveditavats/venv/lib/python3.9/site-packages (from gpt_index==0.4.24) (0.28.0)\n",
      "Requirement already satisfied: pandas in /Users/niveditavats/venv/lib/python3.9/site-packages (from gpt_index==0.4.24) (2.2.0)\n",
      "Requirement already satisfied: tiktoken in /Users/niveditavats/venv/lib/python3.9/site-packages (from gpt_index==0.4.24) (0.7.0)\n",
      "Requirement already satisfied: requests>=2.20 in /Users/niveditavats/venv/lib/python3.9/site-packages (from openai>=0.26.4->gpt_index==0.4.24) (2.31.0)\n",
      "Requirement already satisfied: tqdm in /Users/niveditavats/venv/lib/python3.9/site-packages (from openai>=0.26.4->gpt_index==0.4.24) (4.66.4)\n",
      "Requirement already satisfied: aiohttp in /Users/niveditavats/venv/lib/python3.9/site-packages (from openai>=0.26.4->gpt_index==0.4.24) (3.9.3)\n",
      "Requirement already satisfied: marshmallow<4.0.0,>=3.18.0 in /Users/niveditavats/venv/lib/python3.9/site-packages (from dataclasses-json->gpt_index==0.4.24) (3.21.3)\n",
      "Requirement already satisfied: typing-inspect<1,>=0.4.0 in /Users/niveditavats/venv/lib/python3.9/site-packages (from dataclasses-json->gpt_index==0.4.24) (0.9.0)\n",
      "Requirement already satisfied: PyYAML>=5.4.1 in /Users/niveditavats/venv/lib/python3.9/site-packages (from langchain->gpt_index==0.4.24) (6.0.1)\n",
      "Requirement already satisfied: SQLAlchemy<2,>=1 in /Users/niveditavats/venv/lib/python3.9/site-packages (from langchain->gpt_index==0.4.24) (1.4.52)\n",
      "Requirement already satisfied: pydantic<2,>=1 in /Users/niveditavats/venv/lib/python3.9/site-packages (from langchain->gpt_index==0.4.24) (1.10.9)\n",
      "Requirement already satisfied: python-dateutil>=2.8.2 in /Users/niveditavats/venv/lib/python3.9/site-packages (from pandas->gpt_index==0.4.24) (2.8.2)\n",
      "Requirement already satisfied: pytz>=2020.1 in /Users/niveditavats/venv/lib/python3.9/site-packages (from pandas->gpt_index==0.4.24) (2024.1)\n",
      "Requirement already satisfied: tzdata>=2022.7 in /Users/niveditavats/venv/lib/python3.9/site-packages (from pandas->gpt_index==0.4.24) (2024.1)\n",
      "Requirement already satisfied: regex>=2022.1.18 in /Users/niveditavats/venv/lib/python3.9/site-packages (from tiktoken->gpt_index==0.4.24) (2024.5.15)\n",
      "Requirement already satisfied: aiosignal>=1.1.2 in /Users/niveditavats/venv/lib/python3.9/site-packages (from aiohttp->openai>=0.26.4->gpt_index==0.4.24) (1.3.1)\n",
      "Requirement already satisfied: attrs>=17.3.0 in /Users/niveditavats/venv/lib/python3.9/site-packages (from aiohttp->openai>=0.26.4->gpt_index==0.4.24) (23.2.0)\n",
      "Requirement already satisfied: frozenlist>=1.1.1 in /Users/niveditavats/venv/lib/python3.9/site-packages (from aiohttp->openai>=0.26.4->gpt_index==0.4.24) (1.4.1)\n",
      "Requirement already satisfied: multidict<7.0,>=4.5 in /Users/niveditavats/venv/lib/python3.9/site-packages (from aiohttp->openai>=0.26.4->gpt_index==0.4.24) (6.0.5)\n",
      "Requirement already satisfied: yarl<2.0,>=1.0 in /Users/niveditavats/venv/lib/python3.9/site-packages (from aiohttp->openai>=0.26.4->gpt_index==0.4.24) (1.9.4)\n",
      "Requirement already satisfied: async-timeout<5.0,>=4.0 in /Users/niveditavats/venv/lib/python3.9/site-packages (from aiohttp->openai>=0.26.4->gpt_index==0.4.24) (4.0.3)\n",
      "Requirement already satisfied: packaging>=17.0 in /Users/niveditavats/venv/lib/python3.9/site-packages (from marshmallow<4.0.0,>=3.18.0->dataclasses-json->gpt_index==0.4.24) (23.2)\n",
      "Requirement already satisfied: typing-extensions>=4.2.0 in /Users/niveditavats/venv/lib/python3.9/site-packages (from pydantic<2,>=1->langchain->gpt_index==0.4.24) (4.9.0)\n",
      "Requirement already satisfied: six>=1.5 in /Users/niveditavats/venv/lib/python3.9/site-packages (from python-dateutil>=2.8.2->pandas->gpt_index==0.4.24) (1.16.0)\n",
      "Requirement already satisfied: charset-normalizer<4,>=2 in /Users/niveditavats/venv/lib/python3.9/site-packages (from requests>=2.20->openai>=0.26.4->gpt_index==0.4.24) (3.3.2)\n",
      "Requirement already satisfied: idna<4,>=2.5 in /Users/niveditavats/venv/lib/python3.9/site-packages (from requests>=2.20->openai>=0.26.4->gpt_index==0.4.24) (3.6)\n",
      "Requirement already satisfied: urllib3<3,>=1.21.1 in /Users/niveditavats/venv/lib/python3.9/site-packages (from requests>=2.20->openai>=0.26.4->gpt_index==0.4.24) (1.26.18)\n",
      "Requirement already satisfied: certifi>=2017.4.17 in /Users/niveditavats/venv/lib/python3.9/site-packages (from requests>=2.20->openai>=0.26.4->gpt_index==0.4.24) (2024.2.2)\n",
      "Requirement already satisfied: mypy-extensions>=0.3.0 in /Users/niveditavats/venv/lib/python3.9/site-packages (from typing-inspect<1,>=0.4.0->dataclasses-json->gpt_index==0.4.24) (1.0.0)\n",
      "\n",
      "\u001b[1m[\u001b[0m\u001b[34;49mnotice\u001b[0m\u001b[1;39;49m]\u001b[0m\u001b[39;49m A new release of pip is available: \u001b[0m\u001b[31;49m24.0\u001b[0m\u001b[39;49m -> \u001b[0m\u001b[32;49m24.1\u001b[0m\n",
      "\u001b[1m[\u001b[0m\u001b[34;49mnotice\u001b[0m\u001b[1;39;49m]\u001b[0m\u001b[39;49m To update, run: \u001b[0m\u001b[32;49mpip install --upgrade pip\u001b[0m\n",
      "Note: you may need to restart the kernel to use updated packages.\n"
     ]
    }
   ],
   "source": [
    "pip install gpt_index==0.4.24"
   ]
  },
  {
   "cell_type": "code",
   "execution_count": 4,
   "metadata": {
    "colab": {
     "base_uri": "https://localhost:8080/"
    },
    "executionInfo": {
     "elapsed": 19448,
     "status": "ok",
     "timestamp": 1718824237554,
     "user": {
      "displayName": "Amir Zemoodeh",
      "userId": "16761213164468805584"
     },
     "user_tz": 300
    },
    "id": "vyONPIcXHPbK",
    "outputId": "4f75eb44-b819-41dc-f549-6135c0cb4f1e"
   },
   "outputs": [
    {
     "name": "stdout",
     "output_type": "stream",
     "text": [
      "Requirement already satisfied: langchain==0.0.118 in /Users/niveditavats/venv/lib/python3.9/site-packages (0.0.118)\n",
      "Requirement already satisfied: PyYAML>=5.4.1 in /Users/niveditavats/venv/lib/python3.9/site-packages (from langchain==0.0.118) (6.0.1)\n",
      "Requirement already satisfied: SQLAlchemy<2,>=1 in /Users/niveditavats/venv/lib/python3.9/site-packages (from langchain==0.0.118) (1.4.52)\n",
      "Requirement already satisfied: aiohttp<4.0.0,>=3.8.3 in /Users/niveditavats/venv/lib/python3.9/site-packages (from langchain==0.0.118) (3.9.3)\n",
      "Requirement already satisfied: dataclasses-json<0.6.0,>=0.5.7 in /Users/niveditavats/venv/lib/python3.9/site-packages (from langchain==0.0.118) (0.5.14)\n",
      "Requirement already satisfied: numpy<2,>=1 in /Users/niveditavats/venv/lib/python3.9/site-packages (from langchain==0.0.118) (1.26.4)\n",
      "Requirement already satisfied: pydantic<2,>=1 in /Users/niveditavats/venv/lib/python3.9/site-packages (from langchain==0.0.118) (1.10.9)\n",
      "Requirement already satisfied: requests<3,>=2 in /Users/niveditavats/venv/lib/python3.9/site-packages (from langchain==0.0.118) (2.31.0)\n",
      "Requirement already satisfied: tenacity<9.0.0,>=8.1.0 in /Users/niveditavats/venv/lib/python3.9/site-packages (from langchain==0.0.118) (8.2.3)\n",
      "Requirement already satisfied: aiosignal>=1.1.2 in /Users/niveditavats/venv/lib/python3.9/site-packages (from aiohttp<4.0.0,>=3.8.3->langchain==0.0.118) (1.3.1)\n",
      "Requirement already satisfied: attrs>=17.3.0 in /Users/niveditavats/venv/lib/python3.9/site-packages (from aiohttp<4.0.0,>=3.8.3->langchain==0.0.118) (23.2.0)\n",
      "Requirement already satisfied: frozenlist>=1.1.1 in /Users/niveditavats/venv/lib/python3.9/site-packages (from aiohttp<4.0.0,>=3.8.3->langchain==0.0.118) (1.4.1)\n",
      "Requirement already satisfied: multidict<7.0,>=4.5 in /Users/niveditavats/venv/lib/python3.9/site-packages (from aiohttp<4.0.0,>=3.8.3->langchain==0.0.118) (6.0.5)\n",
      "Requirement already satisfied: yarl<2.0,>=1.0 in /Users/niveditavats/venv/lib/python3.9/site-packages (from aiohttp<4.0.0,>=3.8.3->langchain==0.0.118) (1.9.4)\n",
      "Requirement already satisfied: async-timeout<5.0,>=4.0 in /Users/niveditavats/venv/lib/python3.9/site-packages (from aiohttp<4.0.0,>=3.8.3->langchain==0.0.118) (4.0.3)\n",
      "Requirement already satisfied: marshmallow<4.0.0,>=3.18.0 in /Users/niveditavats/venv/lib/python3.9/site-packages (from dataclasses-json<0.6.0,>=0.5.7->langchain==0.0.118) (3.21.3)\n",
      "Requirement already satisfied: typing-inspect<1,>=0.4.0 in /Users/niveditavats/venv/lib/python3.9/site-packages (from dataclasses-json<0.6.0,>=0.5.7->langchain==0.0.118) (0.9.0)\n",
      "Requirement already satisfied: typing-extensions>=4.2.0 in /Users/niveditavats/venv/lib/python3.9/site-packages (from pydantic<2,>=1->langchain==0.0.118) (4.9.0)\n",
      "Requirement already satisfied: charset-normalizer<4,>=2 in /Users/niveditavats/venv/lib/python3.9/site-packages (from requests<3,>=2->langchain==0.0.118) (3.3.2)\n",
      "Requirement already satisfied: idna<4,>=2.5 in /Users/niveditavats/venv/lib/python3.9/site-packages (from requests<3,>=2->langchain==0.0.118) (3.6)\n",
      "Requirement already satisfied: urllib3<3,>=1.21.1 in /Users/niveditavats/venv/lib/python3.9/site-packages (from requests<3,>=2->langchain==0.0.118) (1.26.18)\n",
      "Requirement already satisfied: certifi>=2017.4.17 in /Users/niveditavats/venv/lib/python3.9/site-packages (from requests<3,>=2->langchain==0.0.118) (2024.2.2)\n",
      "Requirement already satisfied: packaging>=17.0 in /Users/niveditavats/venv/lib/python3.9/site-packages (from marshmallow<4.0.0,>=3.18.0->dataclasses-json<0.6.0,>=0.5.7->langchain==0.0.118) (23.2)\n",
      "Requirement already satisfied: mypy-extensions>=0.3.0 in /Users/niveditavats/venv/lib/python3.9/site-packages (from typing-inspect<1,>=0.4.0->dataclasses-json<0.6.0,>=0.5.7->langchain==0.0.118) (1.0.0)\n",
      "\n",
      "\u001b[1m[\u001b[0m\u001b[34;49mnotice\u001b[0m\u001b[1;39;49m]\u001b[0m\u001b[39;49m A new release of pip is available: \u001b[0m\u001b[31;49m24.0\u001b[0m\u001b[39;49m -> \u001b[0m\u001b[32;49m24.1\u001b[0m\n",
      "\u001b[1m[\u001b[0m\u001b[34;49mnotice\u001b[0m\u001b[1;39;49m]\u001b[0m\u001b[39;49m To update, run: \u001b[0m\u001b[32;49mpip install --upgrade pip\u001b[0m\n",
      "Note: you may need to restart the kernel to use updated packages.\n"
     ]
    }
   ],
   "source": [
    "pip install langchain==0.0.118"
   ]
  },
  {
   "cell_type": "code",
   "execution_count": 5,
   "metadata": {
    "colab": {
     "base_uri": "https://localhost:8080/"
    },
    "executionInfo": {
     "elapsed": 7404,
     "status": "ok",
     "timestamp": 1718824255650,
     "user": {
      "displayName": "Amir Zemoodeh",
      "userId": "16761213164468805584"
     },
     "user_tz": 300
    },
    "id": "NF6uWFlKBmep",
    "outputId": "50a33a24-1b20-473c-d441-a145588fa505"
   },
   "outputs": [
    {
     "name": "stdout",
     "output_type": "stream",
     "text": [
      "Requirement already satisfied: PyPDF2 in /Users/niveditavats/venv/lib/python3.9/site-packages (3.0.1)\n",
      "Requirement already satisfied: typing_extensions>=3.10.0.0 in /Users/niveditavats/venv/lib/python3.9/site-packages (from PyPDF2) (4.9.0)\n",
      "\n",
      "\u001b[1m[\u001b[0m\u001b[34;49mnotice\u001b[0m\u001b[1;39;49m]\u001b[0m\u001b[39;49m A new release of pip is available: \u001b[0m\u001b[31;49m24.0\u001b[0m\u001b[39;49m -> \u001b[0m\u001b[32;49m24.1\u001b[0m\n",
      "\u001b[1m[\u001b[0m\u001b[34;49mnotice\u001b[0m\u001b[1;39;49m]\u001b[0m\u001b[39;49m To update, run: \u001b[0m\u001b[32;49mpip install --upgrade pip\u001b[0m\n",
      "Note: you may need to restart the kernel to use updated packages.\n"
     ]
    }
   ],
   "source": [
    "pip install PyPDF2"
   ]
  },
  {
   "cell_type": "code",
   "execution_count": 6,
   "metadata": {
    "colab": {
     "base_uri": "https://localhost:8080/"
    },
    "executionInfo": {
     "elapsed": 9115,
     "status": "ok",
     "timestamp": 1718824497416,
     "user": {
      "displayName": "Amir Zemoodeh",
      "userId": "16761213164468805584"
     },
     "user_tz": 300
    },
    "id": "JXbPUISzBys3",
    "outputId": "dcb001e6-7a6a-4fba-8730-f8544b0df8f9"
   },
   "outputs": [
    {
     "name": "stdout",
     "output_type": "stream",
     "text": [
      "Requirement already satisfied: PyCryptodome in /Users/niveditavats/venv/lib/python3.9/site-packages (3.20.0)\n",
      "\n",
      "\u001b[1m[\u001b[0m\u001b[34;49mnotice\u001b[0m\u001b[1;39;49m]\u001b[0m\u001b[39;49m A new release of pip is available: \u001b[0m\u001b[31;49m24.0\u001b[0m\u001b[39;49m -> \u001b[0m\u001b[32;49m24.1\u001b[0m\n",
      "\u001b[1m[\u001b[0m\u001b[34;49mnotice\u001b[0m\u001b[1;39;49m]\u001b[0m\u001b[39;49m To update, run: \u001b[0m\u001b[32;49mpip install --upgrade pip\u001b[0m\n",
      "Note: you may need to restart the kernel to use updated packages.\n"
     ]
    }
   ],
   "source": [
    "pip install PyCryptodome"
   ]
  },
  {
   "cell_type": "code",
   "execution_count": 7,
   "metadata": {
    "colab": {
     "base_uri": "https://localhost:8080/"
    },
    "executionInfo": {
     "elapsed": 21996,
     "status": "ok",
     "timestamp": 1718824521610,
     "user": {
      "displayName": "Amir Zemoodeh",
      "userId": "16761213164468805584"
     },
     "user_tz": 300
    },
    "id": "sOFOmtTMB5mm",
    "outputId": "239fb385-29b1-4cf2-c5ff-2536fc1e0612"
   },
   "outputs": [
    {
     "name": "stdout",
     "output_type": "stream",
     "text": [
      "Requirement already satisfied: gradio==3.48.0 in /Users/niveditavats/venv/lib/python3.9/site-packages (3.48.0)\n",
      "Requirement already satisfied: aiofiles<24.0,>=22.0 in /Users/niveditavats/venv/lib/python3.9/site-packages (from gradio==3.48.0) (23.2.1)\n",
      "Requirement already satisfied: altair<6.0,>=4.2.0 in /Users/niveditavats/venv/lib/python3.9/site-packages (from gradio==3.48.0) (5.3.0)\n",
      "Requirement already satisfied: fastapi in /Users/niveditavats/venv/lib/python3.9/site-packages (from gradio==3.48.0) (0.111.0)\n",
      "Requirement already satisfied: ffmpy in /Users/niveditavats/venv/lib/python3.9/site-packages (from gradio==3.48.0) (0.3.2)\n",
      "Requirement already satisfied: gradio-client==0.6.1 in /Users/niveditavats/venv/lib/python3.9/site-packages (from gradio==3.48.0) (0.6.1)\n",
      "Requirement already satisfied: httpx in /Users/niveditavats/venv/lib/python3.9/site-packages (from gradio==3.48.0) (0.27.0)\n",
      "Requirement already satisfied: huggingface-hub>=0.14.0 in /Users/niveditavats/venv/lib/python3.9/site-packages (from gradio==3.48.0) (0.23.4)\n",
      "Requirement already satisfied: importlib-resources<7.0,>=1.3 in /Users/niveditavats/venv/lib/python3.9/site-packages (from gradio==3.48.0) (6.1.1)\n",
      "Requirement already satisfied: jinja2<4.0 in /Users/niveditavats/venv/lib/python3.9/site-packages (from gradio==3.48.0) (3.1.3)\n",
      "Requirement already satisfied: markupsafe~=2.0 in /Users/niveditavats/venv/lib/python3.9/site-packages (from gradio==3.48.0) (2.1.5)\n",
      "Requirement already satisfied: matplotlib~=3.0 in /Users/niveditavats/venv/lib/python3.9/site-packages (from gradio==3.48.0) (3.8.3)\n",
      "Requirement already satisfied: numpy~=1.0 in /Users/niveditavats/venv/lib/python3.9/site-packages (from gradio==3.48.0) (1.26.4)\n",
      "Requirement already satisfied: orjson~=3.0 in /Users/niveditavats/venv/lib/python3.9/site-packages (from gradio==3.48.0) (3.10.5)\n",
      "Requirement already satisfied: packaging in /Users/niveditavats/venv/lib/python3.9/site-packages (from gradio==3.48.0) (23.2)\n",
      "Requirement already satisfied: pandas<3.0,>=1.0 in /Users/niveditavats/venv/lib/python3.9/site-packages (from gradio==3.48.0) (2.2.0)\n",
      "Requirement already satisfied: pillow<11.0,>=8.0 in /Users/niveditavats/venv/lib/python3.9/site-packages (from gradio==3.48.0) (10.2.0)\n",
      "Requirement already satisfied: pydantic!=1.8,!=1.8.1,!=2.0.0,!=2.0.1,<3.0.0,>=1.7.4 in /Users/niveditavats/venv/lib/python3.9/site-packages (from gradio==3.48.0) (1.10.9)\n",
      "Requirement already satisfied: pydub in /Users/niveditavats/venv/lib/python3.9/site-packages (from gradio==3.48.0) (0.25.1)\n",
      "Requirement already satisfied: python-multipart in /Users/niveditavats/venv/lib/python3.9/site-packages (from gradio==3.48.0) (0.0.9)\n",
      "Requirement already satisfied: pyyaml<7.0,>=5.0 in /Users/niveditavats/venv/lib/python3.9/site-packages (from gradio==3.48.0) (6.0.1)\n",
      "Requirement already satisfied: requests~=2.0 in /Users/niveditavats/venv/lib/python3.9/site-packages (from gradio==3.48.0) (2.31.0)\n",
      "Requirement already satisfied: semantic-version~=2.0 in /Users/niveditavats/venv/lib/python3.9/site-packages (from gradio==3.48.0) (2.10.0)\n",
      "Requirement already satisfied: typing-extensions~=4.0 in /Users/niveditavats/venv/lib/python3.9/site-packages (from gradio==3.48.0) (4.9.0)\n",
      "Requirement already satisfied: uvicorn>=0.14.0 in /Users/niveditavats/venv/lib/python3.9/site-packages (from gradio==3.48.0) (0.30.1)\n",
      "Requirement already satisfied: websockets<12.0,>=10.0 in /Users/niveditavats/venv/lib/python3.9/site-packages (from gradio==3.48.0) (10.4)\n",
      "Requirement already satisfied: fsspec in /Users/niveditavats/venv/lib/python3.9/site-packages (from gradio-client==0.6.1->gradio==3.48.0) (2024.3.1)\n",
      "Requirement already satisfied: jsonschema>=3.0 in /Users/niveditavats/venv/lib/python3.9/site-packages (from altair<6.0,>=4.2.0->gradio==3.48.0) (4.21.1)\n",
      "Requirement already satisfied: toolz in /Users/niveditavats/venv/lib/python3.9/site-packages (from altair<6.0,>=4.2.0->gradio==3.48.0) (0.12.1)\n",
      "Requirement already satisfied: filelock in /Users/niveditavats/venv/lib/python3.9/site-packages (from huggingface-hub>=0.14.0->gradio==3.48.0) (3.13.3)\n",
      "Requirement already satisfied: tqdm>=4.42.1 in /Users/niveditavats/venv/lib/python3.9/site-packages (from huggingface-hub>=0.14.0->gradio==3.48.0) (4.66.4)\n",
      "Requirement already satisfied: zipp>=3.1.0 in /Users/niveditavats/venv/lib/python3.9/site-packages (from importlib-resources<7.0,>=1.3->gradio==3.48.0) (3.17.0)\n",
      "Requirement already satisfied: contourpy>=1.0.1 in /Users/niveditavats/venv/lib/python3.9/site-packages (from matplotlib~=3.0->gradio==3.48.0) (1.2.0)\n",
      "Requirement already satisfied: cycler>=0.10 in /Users/niveditavats/venv/lib/python3.9/site-packages (from matplotlib~=3.0->gradio==3.48.0) (0.12.1)\n",
      "Requirement already satisfied: fonttools>=4.22.0 in /Users/niveditavats/venv/lib/python3.9/site-packages (from matplotlib~=3.0->gradio==3.48.0) (4.49.0)\n",
      "Requirement already satisfied: kiwisolver>=1.3.1 in /Users/niveditavats/venv/lib/python3.9/site-packages (from matplotlib~=3.0->gradio==3.48.0) (1.4.5)\n",
      "Requirement already satisfied: pyparsing>=2.3.1 in /Users/niveditavats/venv/lib/python3.9/site-packages (from matplotlib~=3.0->gradio==3.48.0) (3.1.1)\n",
      "Requirement already satisfied: python-dateutil>=2.7 in /Users/niveditavats/venv/lib/python3.9/site-packages (from matplotlib~=3.0->gradio==3.48.0) (2.8.2)\n",
      "Requirement already satisfied: pytz>=2020.1 in /Users/niveditavats/venv/lib/python3.9/site-packages (from pandas<3.0,>=1.0->gradio==3.48.0) (2024.1)\n",
      "Requirement already satisfied: tzdata>=2022.7 in /Users/niveditavats/venv/lib/python3.9/site-packages (from pandas<3.0,>=1.0->gradio==3.48.0) (2024.1)\n",
      "Requirement already satisfied: charset-normalizer<4,>=2 in /Users/niveditavats/venv/lib/python3.9/site-packages (from requests~=2.0->gradio==3.48.0) (3.3.2)\n",
      "Requirement already satisfied: idna<4,>=2.5 in /Users/niveditavats/venv/lib/python3.9/site-packages (from requests~=2.0->gradio==3.48.0) (3.6)\n",
      "Requirement already satisfied: urllib3<3,>=1.21.1 in /Users/niveditavats/venv/lib/python3.9/site-packages (from requests~=2.0->gradio==3.48.0) (1.26.18)\n",
      "Requirement already satisfied: certifi>=2017.4.17 in /Users/niveditavats/venv/lib/python3.9/site-packages (from requests~=2.0->gradio==3.48.0) (2024.2.2)\n",
      "Requirement already satisfied: click>=7.0 in /Users/niveditavats/venv/lib/python3.9/site-packages (from uvicorn>=0.14.0->gradio==3.48.0) (8.1.7)\n",
      "Requirement already satisfied: h11>=0.8 in /Users/niveditavats/venv/lib/python3.9/site-packages (from uvicorn>=0.14.0->gradio==3.48.0) (0.14.0)\n",
      "Requirement already satisfied: starlette<0.38.0,>=0.37.2 in /Users/niveditavats/venv/lib/python3.9/site-packages (from fastapi->gradio==3.48.0) (0.37.2)\n",
      "Requirement already satisfied: fastapi-cli>=0.0.2 in /Users/niveditavats/venv/lib/python3.9/site-packages (from fastapi->gradio==3.48.0) (0.0.4)\n",
      "Requirement already satisfied: ujson!=4.0.2,!=4.1.0,!=4.2.0,!=4.3.0,!=5.0.0,!=5.1.0,>=4.0.1 in /Users/niveditavats/venv/lib/python3.9/site-packages (from fastapi->gradio==3.48.0) (5.10.0)\n",
      "Requirement already satisfied: email_validator>=2.0.0 in /Users/niveditavats/venv/lib/python3.9/site-packages (from fastapi->gradio==3.48.0) (2.1.2)\n",
      "Requirement already satisfied: anyio in /Users/niveditavats/venv/lib/python3.9/site-packages (from httpx->gradio==3.48.0) (4.2.0)\n",
      "Requirement already satisfied: httpcore==1.* in /Users/niveditavats/venv/lib/python3.9/site-packages (from httpx->gradio==3.48.0) (1.0.5)\n",
      "Requirement already satisfied: sniffio in /Users/niveditavats/venv/lib/python3.9/site-packages (from httpx->gradio==3.48.0) (1.3.0)\n",
      "Requirement already satisfied: dnspython>=2.0.0 in /Users/niveditavats/venv/lib/python3.9/site-packages (from email_validator>=2.0.0->fastapi->gradio==3.48.0) (2.6.1)\n",
      "Requirement already satisfied: typer>=0.12.3 in /Users/niveditavats/venv/lib/python3.9/site-packages (from fastapi-cli>=0.0.2->fastapi->gradio==3.48.0) (0.12.3)\n",
      "Requirement already satisfied: attrs>=22.2.0 in /Users/niveditavats/venv/lib/python3.9/site-packages (from jsonschema>=3.0->altair<6.0,>=4.2.0->gradio==3.48.0) (23.2.0)\n",
      "Requirement already satisfied: jsonschema-specifications>=2023.03.6 in /Users/niveditavats/venv/lib/python3.9/site-packages (from jsonschema>=3.0->altair<6.0,>=4.2.0->gradio==3.48.0) (2023.12.1)\n",
      "Requirement already satisfied: referencing>=0.28.4 in /Users/niveditavats/venv/lib/python3.9/site-packages (from jsonschema>=3.0->altair<6.0,>=4.2.0->gradio==3.48.0) (0.33.0)\n",
      "Requirement already satisfied: rpds-py>=0.7.1 in /Users/niveditavats/venv/lib/python3.9/site-packages (from jsonschema>=3.0->altair<6.0,>=4.2.0->gradio==3.48.0) (0.17.1)\n",
      "Requirement already satisfied: six>=1.5 in /Users/niveditavats/venv/lib/python3.9/site-packages (from python-dateutil>=2.7->matplotlib~=3.0->gradio==3.48.0) (1.16.0)\n",
      "Requirement already satisfied: exceptiongroup>=1.0.2 in /Users/niveditavats/venv/lib/python3.9/site-packages (from anyio->httpx->gradio==3.48.0) (1.2.0)\n",
      "Requirement already satisfied: httptools>=0.5.0 in /Users/niveditavats/venv/lib/python3.9/site-packages (from uvicorn[standard]>=0.12.0->fastapi->gradio==3.48.0) (0.6.1)\n",
      "Requirement already satisfied: python-dotenv>=0.13 in /Users/niveditavats/venv/lib/python3.9/site-packages (from uvicorn[standard]>=0.12.0->fastapi->gradio==3.48.0) (1.0.1)\n",
      "Requirement already satisfied: uvloop!=0.15.0,!=0.15.1,>=0.14.0 in /Users/niveditavats/venv/lib/python3.9/site-packages (from uvicorn[standard]>=0.12.0->fastapi->gradio==3.48.0) (0.19.0)\n",
      "Requirement already satisfied: watchfiles>=0.13 in /Users/niveditavats/venv/lib/python3.9/site-packages (from uvicorn[standard]>=0.12.0->fastapi->gradio==3.48.0) (0.22.0)\n",
      "Requirement already satisfied: shellingham>=1.3.0 in /Users/niveditavats/venv/lib/python3.9/site-packages (from typer>=0.12.3->fastapi-cli>=0.0.2->fastapi->gradio==3.48.0) (1.5.4)\n",
      "Requirement already satisfied: rich>=10.11.0 in /Users/niveditavats/venv/lib/python3.9/site-packages (from typer>=0.12.3->fastapi-cli>=0.0.2->fastapi->gradio==3.48.0) (13.7.1)\n",
      "Requirement already satisfied: markdown-it-py>=2.2.0 in /Users/niveditavats/venv/lib/python3.9/site-packages (from rich>=10.11.0->typer>=0.12.3->fastapi-cli>=0.0.2->fastapi->gradio==3.48.0) (3.0.0)\n",
      "Requirement already satisfied: pygments<3.0.0,>=2.13.0 in /Users/niveditavats/venv/lib/python3.9/site-packages (from rich>=10.11.0->typer>=0.12.3->fastapi-cli>=0.0.2->fastapi->gradio==3.48.0) (2.17.2)\n",
      "Requirement already satisfied: mdurl~=0.1 in /Users/niveditavats/venv/lib/python3.9/site-packages (from markdown-it-py>=2.2.0->rich>=10.11.0->typer>=0.12.3->fastapi-cli>=0.0.2->fastapi->gradio==3.48.0) (0.1.2)\n",
      "\n",
      "\u001b[1m[\u001b[0m\u001b[34;49mnotice\u001b[0m\u001b[1;39;49m]\u001b[0m\u001b[39;49m A new release of pip is available: \u001b[0m\u001b[31;49m24.0\u001b[0m\u001b[39;49m -> \u001b[0m\u001b[32;49m24.1\u001b[0m\n",
      "\u001b[1m[\u001b[0m\u001b[34;49mnotice\u001b[0m\u001b[1;39;49m]\u001b[0m\u001b[39;49m To update, run: \u001b[0m\u001b[32;49mpip install --upgrade pip\u001b[0m\n",
      "Note: you may need to restart the kernel to use updated packages.\n"
     ]
    }
   ],
   "source": [
    "pip install gradio==3.48.0"
   ]
  },
  {
   "cell_type": "code",
   "execution_count": 8,
   "metadata": {
    "colab": {
     "base_uri": "https://localhost:8080/"
    },
    "executionInfo": {
     "elapsed": 15213,
     "status": "ok",
     "timestamp": 1718824540792,
     "user": {
      "displayName": "Amir Zemoodeh",
      "userId": "16761213164468805584"
     },
     "user_tz": 300
    },
    "id": "52-xNOpLIQ-F",
    "outputId": "a8aecbce-dabe-4c1d-98db-bfd37948f6bc"
   },
   "outputs": [
    {
     "name": "stdout",
     "output_type": "stream",
     "text": [
      "Requirement already satisfied: pydantic==1.10.9 in /Users/niveditavats/venv/lib/python3.9/site-packages (1.10.9)\n",
      "Requirement already satisfied: typing-extensions>=4.2.0 in /Users/niveditavats/venv/lib/python3.9/site-packages (from pydantic==1.10.9) (4.9.0)\n",
      "\n",
      "\u001b[1m[\u001b[0m\u001b[34;49mnotice\u001b[0m\u001b[1;39;49m]\u001b[0m\u001b[39;49m A new release of pip is available: \u001b[0m\u001b[31;49m24.0\u001b[0m\u001b[39;49m -> \u001b[0m\u001b[32;49m24.1\u001b[0m\n",
      "\u001b[1m[\u001b[0m\u001b[34;49mnotice\u001b[0m\u001b[1;39;49m]\u001b[0m\u001b[39;49m To update, run: \u001b[0m\u001b[32;49mpip install --upgrade pip\u001b[0m\n",
      "Note: you may need to restart the kernel to use updated packages.\n"
     ]
    }
   ],
   "source": [
    "pip install pydantic==1.10.9"
   ]
  },
  {
   "cell_type": "code",
   "execution_count": 9,
   "metadata": {
    "executionInfo": {
     "elapsed": 3107,
     "status": "ok",
     "timestamp": 1718824546258,
     "user": {
      "displayName": "Amir Zemoodeh",
      "userId": "16761213164468805584"
     },
     "user_tz": 300
    },
    "id": "G0ofo_csCAhQ"
   },
   "outputs": [],
   "source": [
    "from gpt_index import SimpleDirectoryReader, GPTListIndex, GPTSimpleVectorIndex, LLMPredictor, PromptHelper"
   ]
  },
  {
   "cell_type": "code",
   "execution_count": 10,
   "metadata": {
    "executionInfo": {
     "elapsed": 4,
     "status": "ok",
     "timestamp": 1718824547498,
     "user": {
      "displayName": "Amir Zemoodeh",
      "userId": "16761213164468805584"
     },
     "user_tz": 300
    },
    "id": "UKpqOt_4QMcc"
   },
   "outputs": [],
   "source": [
    "from langchain.chat_models import ChatOpenAI"
   ]
  },
  {
   "cell_type": "code",
   "execution_count": 11,
   "metadata": {
    "executionInfo": {
     "elapsed": 3238,
     "status": "ok",
     "timestamp": 1718824552120,
     "user": {
      "displayName": "Amir Zemoodeh",
      "userId": "16761213164468805584"
     },
     "user_tz": 300
    },
    "id": "7GrbLSg8QRan"
   },
   "outputs": [],
   "source": [
    "import gradio as gr"
   ]
  },
  {
   "cell_type": "code",
   "execution_count": 12,
   "metadata": {
    "executionInfo": {
     "elapsed": 285,
     "status": "ok",
     "timestamp": 1718824553661,
     "user": {
      "displayName": "Amir Zemoodeh",
      "userId": "16761213164468805584"
     },
     "user_tz": 300
    },
    "id": "XGbX17VIa9Bl"
   },
   "outputs": [],
   "source": [
    "import sys"
   ]
  },
  {
   "cell_type": "code",
   "execution_count": 13,
   "metadata": {
    "executionInfo": {
     "elapsed": 2,
     "status": "ok",
     "timestamp": 1718824554858,
     "user": {
      "displayName": "Amir Zemoodeh",
      "userId": "16761213164468805584"
     },
     "user_tz": 300
    },
    "id": "M7Afm_foa_a_"
   },
   "outputs": [],
   "source": [
    "import os"
   ]
  },
  {
   "cell_type": "code",
   "execution_count": 14,
   "metadata": {
    "executionInfo": {
     "elapsed": 2,
     "status": "ok",
     "timestamp": 1718824556250,
     "user": {
      "displayName": "Amir Zemoodeh",
      "userId": "16761213164468805584"
     },
     "user_tz": 300
    },
    "id": "qqLRUNJubCB_"
   },
   "outputs": [],
   "source": [
    "from tqdm import tqdm"
   ]
  },
  {
   "cell_type": "code",
   "execution_count": 15,
   "metadata": {
    "executionInfo": {
     "elapsed": 2,
     "status": "ok",
     "timestamp": 1718824557577,
     "user": {
      "displayName": "Amir Zemoodeh",
      "userId": "16761213164468805584"
     },
     "user_tz": 300
    },
    "id": "MxWmMomdbFfz"
   },
   "outputs": [],
   "source": [
    "os.environ[\"OPENAI_API_KEY\"] = 'Add your API Key'"
   ]
  },
  {
   "cell_type": "code",
   "execution_count": 16,
   "metadata": {
    "executionInfo": {
     "elapsed": 292,
     "status": "ok",
     "timestamp": 1718824590643,
     "user": {
      "displayName": "Amir Zemoodeh",
      "userId": "16761213164468805584"
     },
     "user_tz": 300
    },
    "id": "HBhuFkZDbRWE"
   },
   "outputs": [],
   "source": [
    "def create_index(directory_path):\n",
    "    max_input_len = 4096\n",
    "    num_outputs = 512\n",
    "    max_chunk_overlap = 20\n",
    "    chunk_size_limit = 600\n",
    "\n",
    "    prompt_helper = PromptHelper(max_input_len, num_outputs, max_chunk_overlap, chunk_size_limit=chunk_size_limit)\n",
    "\n",
    "    llm_predictor = LLMPredictor(llm=ChatOpenAI(temperature=0.7, model_name=\"gpt-3.5-turbo\", max_tokens=num_outputs))\n",
    "\n",
    "    documents = SimpleDirectoryReader(directory_path).load_data()\n",
    "\n",
    "    index = GPTSimpleVectorIndex(documents, llm_predictor=llm_predictor, prompt_helper=prompt_helper)\n",
    "\n",
    "    # Save index to disk\n",
    "    #try:\n",
    "        #index.save_to_disk('index.json')\n",
    "        #print(\"Index saved to disk\")\n",
    "    #except Exception as e:\n",
    "        #print(f\"Error saving index to disk: {e}\")\n",
    "\n",
    "    return index"
   ]
  },
  {
   "cell_type": "code",
   "execution_count": 17,
   "metadata": {
    "executionInfo": {
     "elapsed": 446,
     "status": "ok",
     "timestamp": 1718825284685,
     "user": {
      "displayName": "Amir Zemoodeh",
      "userId": "16761213164468805584"
     },
     "user_tz": 300
    },
    "id": "zK0OMCG2bTKM"
   },
   "outputs": [],
   "source": [
    "def chat(input_text, index):\n",
    "    # index = create_index(\"/content/drive/My Drive/Colab Notebooks/Docs\")\n",
    "    # index = GPTSimpleVectorIndex.load_from_disk('index.json')\n",
    "    response = index.query(input_text, response_mode=\"tree_summarize\")\n",
    "    return response.response"
   ]
  },
  {
   "cell_type": "code",
   "execution_count": 21,
   "metadata": {
    "colab": {
     "base_uri": "https://localhost:8080/"
    },
    "executionInfo": {
     "elapsed": 25176,
     "status": "ok",
     "timestamp": 1718824755733,
     "user": {
      "displayName": "Amir Zemoodeh",
      "userId": "16761213164468805584"
     },
     "user_tz": 300
    },
    "id": "-Aqq41VayOb4",
    "outputId": "e008ffe4-3c09-4d72-ab52-d9d3b0969840"
   },
   "outputs": [
    {
     "name": "stdout",
     "output_type": "stream",
     "text": [
      "Mounted at /content/drive\n"
     ]
    }
   ],
   "source": [
    "# from google.colab import drive\n",
    "# drive.mount('/content/drive')"
   ]
  },
  {
   "cell_type": "code",
   "execution_count": 19,
   "metadata": {
    "executionInfo": {
     "elapsed": 610,
     "status": "ok",
     "timestamp": 1718825288269,
     "user": {
      "displayName": "Amir Zemoodeh",
      "userId": "16761213164468805584"
     },
     "user_tz": 300
    },
    "id": "QADfkiIGbv8f"
   },
   "outputs": [
    {
     "name": "stderr",
     "output_type": "stream",
     "text": [
      "INFO:root:> [build_index_from_documents] Total LLM token usage: 0 tokens\n",
      "INFO:root:> [build_index_from_documents] Total embedding token usage: 2282 tokens\n"
     ]
    }
   ],
   "source": [
    "index = create_index(\"/Users/niveditavats/venv/python/LLM/Doc\")"
   ]
  },
  {
   "cell_type": "code",
   "execution_count": 23,
   "metadata": {
    "colab": {
     "base_uri": "https://localhost:8080/",
     "height": 36
    },
    "executionInfo": {
     "elapsed": 2334,
     "status": "ok",
     "timestamp": 1718825429560,
     "user": {
      "displayName": "Amir Zemoodeh",
      "userId": "16761213164468805584"
     },
     "user_tz": 300
    },
    "id": "ASY36zcP-JBv",
    "outputId": "6659bd0a-a25c-43f0-d82c-328e5e0984db"
   },
   "outputs": [
    {
     "name": "stderr",
     "output_type": "stream",
     "text": [
      "INFO:root:> Building index from nodes: 0 chunks\n",
      "INFO:root:> [query] Total LLM token usage: 793 tokens\n",
      "INFO:root:> [query] Total embedding token usage: 5 tokens\n"
     ]
    },
    {
     "data": {
      "text/plain": [
       "'My qualification is a Master of Science in Financial Technology and Analytics with a major in Financial Mathematics from The University of Texas at Dallas, along with an MBA in Banking and Finance. I have also completed certifications in financial analysis, data science, investment strategies, portfolio analysis, and programming using Python.'"
      ]
     },
     "execution_count": 23,
     "metadata": {},
     "output_type": "execute_result"
    }
   ],
   "source": [
    "Question = \"What is your qualification?\"\n",
    "chat (Question, index)"
   ]
  }
 ],
 "metadata": {
  "colab": {
   "authorship_tag": "ABX9TyMUWa5gkKn+16APsUK2u0nG",
   "provenance": []
  },
  "kernelspec": {
   "display_name": "Python 3 (ipykernel)",
   "language": "python",
   "name": "python3"
  },
  "language_info": {
   "codemirror_mode": {
    "name": "ipython",
    "version": 3
   },
   "file_extension": ".py",
   "mimetype": "text/x-python",
   "name": "python",
   "nbconvert_exporter": "python",
   "pygments_lexer": "ipython3",
   "version": "3.9.6"
  }
 },
 "nbformat": 4,
 "nbformat_minor": 4
}
